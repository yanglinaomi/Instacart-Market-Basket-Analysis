{
 "cells": [
  {
   "cell_type": "markdown",
   "metadata": {},
   "source": [
    "## Modeling and Prediction"
   ]
  },
  {
   "cell_type": "markdown",
   "metadata": {},
   "source": [
    "### Import libraries and load train/test data"
   ]
  },
  {
   "cell_type": "code",
   "execution_count": 2,
   "metadata": {},
   "outputs": [],
   "source": [
    "#import libraries\n",
    "from matplotlib import pyplot as plt\n",
    "import pandas as pd\n",
    "import numpy as np\n",
    "import seaborn as sns\n",
    "from sklearn.model_selection import train_test_split, GridSearchCV\n",
    "from sklearn.linear_model import LogisticRegression\n",
    "from sklearn.ensemble import RandomForestClassifier\n",
    "from imblearn.pipeline import Pipeline\n",
    "from xgboost import XGBClassifier\n",
    "from sklearn.preprocessing import StandardScaler\n",
    "import xgboost as xgb\n",
    "from sklearn.metrics import f1_score\n",
    "from lightgbm import LGBMClassifier\n",
    "import lightgbm as lgb\n",
    "import random\n",
    "\n",
    "from numpy import arange\n",
    "from numpy import argmax"
   ]
  },
  {
   "cell_type": "code",
   "execution_count": 3,
   "metadata": {},
   "outputs": [],
   "source": [
    "train_data=pd.read_csv('../data/train_data.csv')\n",
    "test_data=pd.read_csv('../data/test_data.csv')"
   ]
  },
  {
   "cell_type": "code",
   "execution_count": 5,
   "metadata": {},
   "outputs": [],
   "source": [
    "train_data['reordered']=train_data['reordered'].astype(int)"
   ]
  },
  {
   "cell_type": "code",
   "execution_count": 6,
   "metadata": {
    "scrolled": false
   },
   "outputs": [
    {
     "data": {
      "text/html": [
       "<div>\n",
       "<style scoped>\n",
       "    .dataframe tbody tr th:only-of-type {\n",
       "        vertical-align: middle;\n",
       "    }\n",
       "\n",
       "    .dataframe tbody tr th {\n",
       "        vertical-align: top;\n",
       "    }\n",
       "\n",
       "    .dataframe thead th {\n",
       "        text-align: right;\n",
       "    }\n",
       "</style>\n",
       "<table border=\"1\" class=\"dataframe\">\n",
       "  <thead>\n",
       "    <tr style=\"text-align: right;\">\n",
       "      <th></th>\n",
       "      <th>reordered</th>\n",
       "    </tr>\n",
       "  </thead>\n",
       "  <tbody>\n",
       "    <tr>\n",
       "      <th>reordered</th>\n",
       "      <td>1.000000</td>\n",
       "    </tr>\n",
       "    <tr>\n",
       "      <th>reorder_last5_count</th>\n",
       "      <td>0.386591</td>\n",
       "    </tr>\n",
       "    <tr>\n",
       "      <th>order_last5_count</th>\n",
       "      <td>0.386080</td>\n",
       "    </tr>\n",
       "    <tr>\n",
       "      <th>reorder_rate_last5</th>\n",
       "      <td>0.297105</td>\n",
       "    </tr>\n",
       "    <tr>\n",
       "      <th>user_prd_reorder_ratio</th>\n",
       "      <td>0.281601</td>\n",
       "    </tr>\n",
       "    <tr>\n",
       "      <th>user_prd_count</th>\n",
       "      <td>0.248376</td>\n",
       "    </tr>\n",
       "    <tr>\n",
       "      <th>prd_reordered_ratio</th>\n",
       "      <td>0.167360</td>\n",
       "    </tr>\n",
       "    <tr>\n",
       "      <th>prd_avg_cart_postion</th>\n",
       "      <td>0.129354</td>\n",
       "    </tr>\n",
       "    <tr>\n",
       "      <th>prd_count</th>\n",
       "      <td>0.126969</td>\n",
       "    </tr>\n",
       "    <tr>\n",
       "      <th>aisle_count</th>\n",
       "      <td>0.103531</td>\n",
       "    </tr>\n",
       "    <tr>\n",
       "      <th>dept_count</th>\n",
       "      <td>0.095437</td>\n",
       "    </tr>\n",
       "    <tr>\n",
       "      <th>user_orders_count</th>\n",
       "      <td>0.092544</td>\n",
       "    </tr>\n",
       "    <tr>\n",
       "      <th>user_prd_first</th>\n",
       "      <td>0.077346</td>\n",
       "    </tr>\n",
       "    <tr>\n",
       "      <th>mean_day_since_order</th>\n",
       "      <td>0.060470</td>\n",
       "    </tr>\n",
       "    <tr>\n",
       "      <th>order_user_prd_since_1st</th>\n",
       "      <td>0.058832</td>\n",
       "    </tr>\n",
       "    <tr>\n",
       "      <th>prd_cart_order</th>\n",
       "      <td>0.050944</td>\n",
       "    </tr>\n",
       "    <tr>\n",
       "      <th>user_avg_prd</th>\n",
       "      <td>0.049082</td>\n",
       "    </tr>\n",
       "    <tr>\n",
       "      <th>user_reorder_ratio</th>\n",
       "      <td>0.007100</td>\n",
       "    </tr>\n",
       "    <tr>\n",
       "      <th>product_id</th>\n",
       "      <td>0.002786</td>\n",
       "    </tr>\n",
       "    <tr>\n",
       "      <th>user_id</th>\n",
       "      <td>0.000429</td>\n",
       "    </tr>\n",
       "  </tbody>\n",
       "</table>\n",
       "</div>"
      ],
      "text/plain": [
       "                          reordered\n",
       "reordered                  1.000000\n",
       "reorder_last5_count        0.386591\n",
       "order_last5_count          0.386080\n",
       "reorder_rate_last5         0.297105\n",
       "user_prd_reorder_ratio     0.281601\n",
       "user_prd_count             0.248376\n",
       "prd_reordered_ratio        0.167360\n",
       "prd_avg_cart_postion       0.129354\n",
       "prd_count                  0.126969\n",
       "aisle_count                0.103531\n",
       "dept_count                 0.095437\n",
       "user_orders_count          0.092544\n",
       "user_prd_first             0.077346\n",
       "mean_day_since_order       0.060470\n",
       "order_user_prd_since_1st   0.058832\n",
       "prd_cart_order             0.050944\n",
       "user_avg_prd               0.049082\n",
       "user_reorder_ratio         0.007100\n",
       "product_id                 0.002786\n",
       "user_id                    0.000429"
      ]
     },
     "execution_count": 6,
     "metadata": {},
     "output_type": "execute_result"
    }
   ],
   "source": [
    "abs(train_data.corr()[['reordered']]).sort_values(by='reordered', ascending=False)"
   ]
  },
  {
   "cell_type": "markdown",
   "metadata": {},
   "source": [
    "### Train/Test/Split by user"
   ]
  },
  {
   "cell_type": "markdown",
   "metadata": {},
   "source": [
    "Since we predict whether user makes repeat purchase for the products, we split train_data to train and val datasets by user to make sure same users in train or val dataset. "
   ]
  },
  {
   "cell_type": "code",
   "execution_count": 7,
   "metadata": {},
   "outputs": [],
   "source": [
    "# The correlation rate for user_reordered_ratio is quite low, so we decide to drop it.\n",
    "X = train_data.drop(['product_id', 'user_reorder_ratio'], axis=1)"
   ]
  },
  {
   "cell_type": "code",
   "execution_count": 8,
   "metadata": {},
   "outputs": [
    {
     "data": {
      "text/plain": [
       "131209"
      ]
     },
     "execution_count": 8,
     "metadata": {},
     "output_type": "execute_result"
    }
   ],
   "source": [
    "train_data.user_id.nunique()"
   ]
  },
  {
   "cell_type": "code",
   "execution_count": 9,
   "metadata": {},
   "outputs": [],
   "source": [
    "total_users = list(train_data.user_id.unique())"
   ]
  },
  {
   "cell_type": "code",
   "execution_count": 10,
   "metadata": {},
   "outputs": [],
   "source": [
    "# randomize users\n",
    "random.shuffle(total_users)"
   ]
  },
  {
   "cell_type": "code",
   "execution_count": 11,
   "metadata": {},
   "outputs": [],
   "source": [
    "# train test split with test_size=0.25\n",
    "train_users = total_users[:98406]\n",
    "test_users  = total_users[98406:]"
   ]
  },
  {
   "cell_type": "code",
   "execution_count": 13,
   "metadata": {},
   "outputs": [],
   "source": [
    "X_train = X.set_index('user_id').loc[train_users,:]\n",
    "X_val  = X.set_index('user_id').loc[test_users,:]"
   ]
  },
  {
   "cell_type": "code",
   "execution_count": 14,
   "metadata": {},
   "outputs": [],
   "source": [
    "y_train = X_train.reordered\n",
    "y_val = X_val.reordered\n",
    "X_train = X_train.drop(['reordered'],axis=1)\n",
    "X_val = X_val.drop(['reordered'],axis=1)"
   ]
  },
  {
   "cell_type": "code",
   "execution_count": 16,
   "metadata": {},
   "outputs": [],
   "source": [
    "# X_test for prediction.\n",
    "X_test=test_data.drop(['order_id','user_id', 'product_id', 'user_reorder_ratio'], axis=1)"
   ]
  },
  {
   "cell_type": "code",
   "execution_count": 18,
   "metadata": {},
   "outputs": [],
   "source": [
    "X_train_full = train_data.drop(['product_id', 'user_reorder_ratio', 'user_id', 'reordered'], axis=1)"
   ]
  },
  {
   "cell_type": "code",
   "execution_count": 20,
   "metadata": {},
   "outputs": [],
   "source": [
    "y_train_full = train_data['reordered']"
   ]
  },
  {
   "cell_type": "code",
   "execution_count": 21,
   "metadata": {
    "scrolled": true
   },
   "outputs": [
    {
     "data": {
      "text/plain": [
       "0    0.9022\n",
       "1    0.0978\n",
       "Name: reordered, dtype: float64"
      ]
     },
     "execution_count": 21,
     "metadata": {},
     "output_type": "execute_result"
    }
   ],
   "source": [
    "y_train_full.value_counts(normalize=True)"
   ]
  },
  {
   "cell_type": "markdown",
   "metadata": {},
   "source": [
    "### Baseline f1 score"
   ]
  },
  {
   "cell_type": "markdown",
   "metadata": {},
   "source": [
    "Baseline f1 score is calculated referring to \n",
    "[this website](https://stats.stackexchange.com/questions/390200/what-is-the-baseline-of-the-f1-score-for-a-binary-classifier)"
   ]
  },
  {
   "cell_type": "markdown",
   "metadata": {},
   "source": [
    "Our assumption is that predict all as positive, which is 'reordered =1' for our case. \n",
    "According to y_train_full data, the probabilities p(reordered=1)= 0.0978. \n",
    "\n",
    "If we assume that predicts all as positive:                                                                             \n",
    "precision = (true positive)/(total predict positive) = 0.0978                                                           \n",
    "recall = (true positive)/(total actual positive) = 1                                                                     \n",
    "So our baseline f1 score is:                                                                                            \n",
    "f1 score=(2 x precision x recall)/(precision+recall) = (2x 0.0978)/(1+0.0978) = **0.178**"
   ]
  },
  {
   "cell_type": "markdown",
   "metadata": {},
   "source": [
    "### Evaluation metric and models chosen"
   ]
  },
  {
   "cell_type": "markdown",
   "metadata": {},
   "source": [
    "In this project, f1 score is used as evaluation metric. F1 score is the harmonic mean of precision and recall. It weights these two equally and is normally use for imbalanced dataset, especially for the case where we have more negative examples that positive examples [[3]](https://stats.stackexchange.com/questions/329102/comparing-f1-score-across-imbalanced-data-sets). In this project, we have imbalanced dataset with positive (reordered =1) and negative (reordered=0) ratio as 9:1 roughly.\n",
    "\n",
    "This is binary classfication problem for this project. So we choose some models to deal with binary classification issue, i.e. logisitic regression (basic binary classification model), XGBoost/Lightgbm (Gradient Tree Boosting techniques), Random Forest (Bagging Based techniques).\n",
    "\n",
    "XGBoost/Lightgbm performs well on imbalanced classification datasets. It offers a way to tune the training algorithm to pay more attention to misclassification of the minority class for datasets with a skewed class distribution[[4]](https://machinelearningmastery.com/xgboost-for-imbalanced-classification/).\n",
    "\n",
    "RF is robust to overfitting. Parameterization for random forest remains quite intuitive and straightforward."
   ]
  },
  {
   "cell_type": "markdown",
   "metadata": {},
   "source": [
    "### Functions for modelling and prediction"
   ]
  },
  {
   "cell_type": "markdown",
   "metadata": {},
   "source": [
    "#### Function to get optimal threshold"
   ]
  },
  {
   "cell_type": "markdown",
   "metadata": {},
   "source": [
    "For those classification problems that have a severe class imbalance, the default threshold (0.5) can result in poor performance. As such, a simple and straightforward approach to improving the performance of a classifier that predicts probabilities on an imbalanced classification problem is to tune the threshold used to map probabilities to class labels.\n",
    "\n",
    "We use the following functions to get optimal threshold. refers to [this website](https://machinelearningmastery.com/threshold-moving-for-imbalanced-classification/)."
   ]
  },
  {
   "cell_type": "code",
   "execution_count": 22,
   "metadata": {},
   "outputs": [],
   "source": [
    "# apply threshold to positive probabilities to create labels\n",
    "def to_labels(pos_probs, threshold):\n",
    "    return (pos_probs >= threshold).astype('int')"
   ]
  },
  {
   "cell_type": "code",
   "execution_count": 23,
   "metadata": {},
   "outputs": [],
   "source": [
    "def optimal_threshold(yhat):\n",
    "    # keep probabilities for the positive outcome only\n",
    "    probs = yhat[:, 1]\n",
    "    # define thresholds\n",
    "    thresholds = arange(0, 1, 0.01)\n",
    "    # evaluate each threshold\n",
    "    scores = [f1_score(y_val, to_labels(probs, t)) for t in thresholds]\n",
    "    # get best threshold\n",
    "    ix = argmax(scores)\n",
    "    return thresholds[ix], scores[ix]"
   ]
  },
  {
   "cell_type": "code",
   "execution_count": 25,
   "metadata": {},
   "outputs": [],
   "source": [
    "# print f1 score for train and val dataset\n",
    "def train_val_f1_score(threshold, model):\n",
    "    y_pred_train=[1 if pred[1]>=threshold else 0 for pred in model.predict_proba(X_train)]\n",
    "    y_pred_val=[1 if pred[1]>=threshold else 0 for pred in model.predict_proba(X_val)]\n",
    "    train_f1score=f1_score(y_train,y_pred_train)\n",
    "    val_f1score=f1_score(y_val,y_pred_val)\n",
    "    print('f1-score on train data: {}'.format(train_f1score))\n",
    "    print('f1-score on validate data: {}'.format(val_f1score))\n",
    "    return train_f1score, val_f1score"
   ]
  },
  {
   "cell_type": "markdown",
   "metadata": {},
   "source": [
    "#### Function to create submission file"
   ]
  },
  {
   "cell_type": "markdown",
   "metadata": {},
   "source": [
    "These functions are applied to create the submission file."
   ]
  },
  {
   "cell_type": "code",
   "execution_count": 26,
   "metadata": {},
   "outputs": [],
   "source": [
    "def submission(model, ot):\n",
    "    predictions = model.predict_proba(X_test)\n",
    "    test_data['reordered']=predictions[:, 1]\n",
    "    final = test_data[['order_id','product_id','reordered']]\n",
    "    dic=create_product_list(final, ot)\n",
    "    dic_join=join_products(dic)\n",
    "    submission=pd.DataFrame.from_dict(dic_join, orient='index').reset_index()\n",
    "    submission.columns=['order_id', 'products']\n",
    "    submission['order_id']=submission['order_id'].astype('int')\n",
    "    test_data.drop('reordered', axis=1, inplace=True)\n",
    "    return submission"
   ]
  },
  {
   "cell_type": "code",
   "execution_count": 27,
   "metadata": {},
   "outputs": [],
   "source": [
    "def create_product_list(df, threshold):\n",
    "    dic={}\n",
    "    for index, row in df.iterrows():\n",
    "        if row.reordered>=threshold:\n",
    "            dic.setdefault(row.order_id, []).append(int(row.product_id))\n",
    "\n",
    "    for order in df.order_id:\n",
    "        if order not in dic:\n",
    "            dic[order] = 'None'\n",
    "    return dic"
   ]
  },
  {
   "cell_type": "code",
   "execution_count": 28,
   "metadata": {},
   "outputs": [],
   "source": [
    "def join_products(dic):\n",
    "    for key, value in dic.items():\n",
    "        dic[key]= \" \".join(str(item) for item in value)\n",
    "    return dic"
   ]
  },
  {
   "cell_type": "markdown",
   "metadata": {},
   "source": [
    "### Modeling"
   ]
  },
  {
   "cell_type": "markdown",
   "metadata": {},
   "source": [
    "#### Create Results DataFrame"
   ]
  },
  {
   "cell_type": "code",
   "execution_count": 125,
   "metadata": {},
   "outputs": [],
   "source": [
    "results = pd.DataFrame(columns=['Classifier', 'Hyperparams','Optimal Threshold', \n",
    "                                'Train f1 score', 'Val f1 score',\n",
    "                                'Test f1 score'])"
   ]
  },
  {
   "cell_type": "markdown",
   "metadata": {},
   "source": [
    "#### Logistic Regression"
   ]
  },
  {
   "cell_type": "code",
   "execution_count": 30,
   "metadata": {},
   "outputs": [],
   "source": [
    "pipe_lr = Pipeline([\n",
    "        ('scale', StandardScaler()),\n",
    "        ('logreg', LogisticRegression(max_iter=200))\n",
    "    ])"
   ]
  },
  {
   "cell_type": "code",
   "execution_count": 31,
   "metadata": {},
   "outputs": [],
   "source": [
    "pipe_lr_params = {\n",
    "    'logreg__C': [0.1, 0.5, 1]\n",
    "}"
   ]
  },
  {
   "cell_type": "code",
   "execution_count": 32,
   "metadata": {},
   "outputs": [],
   "source": [
    "grid_pipe_lr = GridSearchCV(pipe_lr, pipe_lr_params, cv=2, verbose=3,n_jobs=-1)"
   ]
  },
  {
   "cell_type": "code",
   "execution_count": 33,
   "metadata": {},
   "outputs": [
    {
     "name": "stdout",
     "output_type": "stream",
     "text": [
      "Fitting 2 folds for each of 3 candidates, totalling 6 fits\n"
     ]
    },
    {
     "data": {
      "text/plain": [
       "GridSearchCV(cv=2,\n",
       "             estimator=Pipeline(steps=[('scale', StandardScaler()),\n",
       "                                       ('logreg',\n",
       "                                        LogisticRegression(max_iter=200))]),\n",
       "             n_jobs=-1, param_grid={'logreg__C': [0.1, 0.5, 1]}, verbose=3)"
      ]
     },
     "execution_count": 33,
     "metadata": {},
     "output_type": "execute_result"
    }
   ],
   "source": [
    "grid_pipe_lr.fit(X_train, y_train)"
   ]
  },
  {
   "cell_type": "code",
   "execution_count": 34,
   "metadata": {},
   "outputs": [],
   "source": [
    "pipe_lr_bestmodel = grid_pipe_lr.best_estimator_"
   ]
  },
  {
   "cell_type": "code",
   "execution_count": 35,
   "metadata": {},
   "outputs": [
    {
     "data": {
      "text/plain": [
       "Pipeline(steps=[('scale', StandardScaler()),\n",
       "                ('logreg', LogisticRegression(C=0.1, max_iter=200))])"
      ]
     },
     "execution_count": 35,
     "metadata": {},
     "output_type": "execute_result"
    }
   ],
   "source": [
    "pipe_lr_bestmodel"
   ]
  },
  {
   "cell_type": "markdown",
   "metadata": {},
   "source": [
    "##### Get the optimal threshold and F1 score"
   ]
  },
  {
   "cell_type": "code",
   "execution_count": 36,
   "metadata": {},
   "outputs": [],
   "source": [
    "preds_val_lr_pipe = pipe_lr_bestmodel.predict_proba(X_val)"
   ]
  },
  {
   "cell_type": "code",
   "execution_count": 37,
   "metadata": {},
   "outputs": [],
   "source": [
    "ot_lr, f1_lr = optimal_threshold(preds_val_lr_pipe)"
   ]
  },
  {
   "cell_type": "code",
   "execution_count": 38,
   "metadata": {},
   "outputs": [
    {
     "data": {
      "text/plain": [
       "(0.2, 0.42871514208120814)"
      ]
     },
     "execution_count": 38,
     "metadata": {},
     "output_type": "execute_result"
    }
   ],
   "source": [
    "ot_lr,f1_lr"
   ]
  },
  {
   "cell_type": "code",
   "execution_count": 39,
   "metadata": {},
   "outputs": [
    {
     "name": "stdout",
     "output_type": "stream",
     "text": [
      "f1-score on train data: 0.42673495214306245\n",
      "f1-score on validate data: 0.42871514208120814\n"
     ]
    }
   ],
   "source": [
    "# print f1 score for train and val data with optimal threshold\n",
    "lr_train_f1, lr_val_f1 = train_val_f1_score(ot_lr, pipe_lr_bestmodel)"
   ]
  },
  {
   "cell_type": "markdown",
   "metadata": {},
   "source": [
    "##### Prediction and kaggle submission"
   ]
  },
  {
   "cell_type": "code",
   "execution_count": 40,
   "metadata": {},
   "outputs": [],
   "source": [
    "# train model with whole train dataset before prediction\n",
    "pred_model = pipe_lr_bestmodel.fit(X_train_full, y_train_full)"
   ]
  },
  {
   "cell_type": "code",
   "execution_count": 41,
   "metadata": {},
   "outputs": [],
   "source": [
    "# create submission dataframe\n",
    "submission_df = submission(pred_model, ot_lr)"
   ]
  },
  {
   "cell_type": "code",
   "execution_count": 42,
   "metadata": {},
   "outputs": [],
   "source": [
    "# save kaggle submission file as .csv file\n",
    "submission_df.to_csv('../submission/submission_lr.csv', index=False)"
   ]
  },
  {
   "cell_type": "markdown",
   "metadata": {},
   "source": [
    "kaggle score: 0.36261"
   ]
  },
  {
   "cell_type": "code",
   "execution_count": 126,
   "metadata": {},
   "outputs": [],
   "source": [
    "results = results.append(\n",
    "    {'Classifier': 'Logistic Regression', \n",
    "     'Hyperparams': grid_pipe_lr.best_params_,\n",
    "     'Optimal Threshold': ot_lr,\n",
    "     'Train f1 score': round(lr_train_f1, 3), \n",
    "     'Val f1 score': round(lr_val_f1, 3),\n",
    "    'Test f1 score': round(0.36261, 3)},\n",
    "    ignore_index=True)"
   ]
  },
  {
   "cell_type": "markdown",
   "metadata": {},
   "source": [
    "#### XGBoost"
   ]
  },
  {
   "cell_type": "code",
   "execution_count": 45,
   "metadata": {},
   "outputs": [],
   "source": [
    "xgbc = xgb.XGBClassifier(objective='binary:logistic', eval_metric='error')"
   ]
  },
  {
   "cell_type": "code",
   "execution_count": 48,
   "metadata": {},
   "outputs": [],
   "source": [
    "xgbc_params = {'max_depth':[3,5,6],\n",
    "               'n_estimators':[500,1000,1200],\n",
    "               'learning_rate':[0.02, 0.05, 0.1]          \n",
    "            } "
   ]
  },
  {
   "cell_type": "code",
   "execution_count": 49,
   "metadata": {},
   "outputs": [],
   "source": [
    "grid_xgbc = GridSearchCV(xgbc, xgbc_params, cv=2, verbose=3, n_jobs=-1)"
   ]
  },
  {
   "cell_type": "code",
   "execution_count": 50,
   "metadata": {
    "scrolled": false
   },
   "outputs": [
    {
     "name": "stdout",
     "output_type": "stream",
     "text": [
      "Fitting 2 folds for each of 27 candidates, totalling 54 fits\n"
     ]
    },
    {
     "name": "stderr",
     "output_type": "stream",
     "text": [
      "C:\\ProgramData\\Anaconda3\\lib\\site-packages\\xgboost\\sklearn.py:888: UserWarning: The use of label encoder in XGBClassifier is deprecated and will be removed in a future release. To remove this warning, do the following: 1) Pass option use_label_encoder=False when constructing XGBClassifier object; and 2) Encode your labels (y) as integers starting with 0, i.e. 0, 1, 2, ..., [num_class - 1].\n",
      "  warnings.warn(label_encoder_deprecation_msg, UserWarning)\n"
     ]
    },
    {
     "data": {
      "text/plain": [
       "GridSearchCV(cv=2,\n",
       "             estimator=XGBClassifier(base_score=None, booster=None,\n",
       "                                     colsample_bylevel=None,\n",
       "                                     colsample_bynode=None,\n",
       "                                     colsample_bytree=None, eval_metric='error',\n",
       "                                     gamma=None, gpu_id=None,\n",
       "                                     importance_type='gain',\n",
       "                                     interaction_constraints=None,\n",
       "                                     learning_rate=None, max_delta_step=None,\n",
       "                                     max_depth=None, min_child_weight=None,\n",
       "                                     missing=nan, monotone_constraints=None,\n",
       "                                     n_estimators=100, n_jobs=None,\n",
       "                                     num_parallel_tree=None, random_state=None,\n",
       "                                     reg_alpha=None, reg_lambda=None,\n",
       "                                     scale_pos_weight=None, subsample=None,\n",
       "                                     tree_method=None, validate_parameters=None,\n",
       "                                     verbosity=None),\n",
       "             n_jobs=-1,\n",
       "             param_grid={'learning_rate': [0.02, 0.05, 0.1],\n",
       "                         'max_depth': [3, 5, 6],\n",
       "                         'n_estimators': [500, 1000, 1200]},\n",
       "             verbose=3)"
      ]
     },
     "execution_count": 50,
     "metadata": {},
     "output_type": "execute_result"
    }
   ],
   "source": [
    "grid_xgbc.fit(X_train, y_train)"
   ]
  },
  {
   "cell_type": "code",
   "execution_count": 51,
   "metadata": {},
   "outputs": [],
   "source": [
    "xgbc_best_model = grid_xgbc.best_estimator_"
   ]
  },
  {
   "cell_type": "code",
   "execution_count": 52,
   "metadata": {},
   "outputs": [
    {
     "data": {
      "text/plain": [
       "{'learning_rate': 0.02, 'max_depth': 6, 'n_estimators': 1000}"
      ]
     },
     "execution_count": 52,
     "metadata": {},
     "output_type": "execute_result"
    }
   ],
   "source": [
    "grid_xgbc.best_params_"
   ]
  },
  {
   "cell_type": "markdown",
   "metadata": {},
   "source": [
    "##### Get the optimal threshold and F1 score"
   ]
  },
  {
   "cell_type": "code",
   "execution_count": 53,
   "metadata": {},
   "outputs": [],
   "source": [
    "preds_val_xgbc = xgbc_best_model.predict_proba(X_val)"
   ]
  },
  {
   "cell_type": "code",
   "execution_count": 54,
   "metadata": {},
   "outputs": [],
   "source": [
    "ot_xgbc, f1_xgbc= optimal_threshold(preds_val_xgbc)"
   ]
  },
  {
   "cell_type": "code",
   "execution_count": 55,
   "metadata": {},
   "outputs": [
    {
     "data": {
      "text/plain": [
       "(0.21, 0.43291098317645454)"
      ]
     },
     "execution_count": 55,
     "metadata": {},
     "output_type": "execute_result"
    }
   ],
   "source": [
    "ot_xgbc, f1_xgbc"
   ]
  },
  {
   "cell_type": "code",
   "execution_count": 56,
   "metadata": {},
   "outputs": [
    {
     "name": "stdout",
     "output_type": "stream",
     "text": [
      "f1-score on train data: 0.4338459620100586\n",
      "f1-score on validate data: 0.43291098317645454\n"
     ]
    }
   ],
   "source": [
    "# with optimal threshold\n",
    "xgbc_train_f1, xgbc_val_f1 = train_val_f1_score(ot_xgbc, xgbc_best_model)"
   ]
  },
  {
   "cell_type": "markdown",
   "metadata": {},
   "source": [
    "##### prediction and kaggle submission"
   ]
  },
  {
   "cell_type": "code",
   "execution_count": 57,
   "metadata": {
    "scrolled": false
   },
   "outputs": [
    {
     "name": "stderr",
     "output_type": "stream",
     "text": [
      "C:\\ProgramData\\Anaconda3\\lib\\site-packages\\xgboost\\sklearn.py:888: UserWarning: The use of label encoder in XGBClassifier is deprecated and will be removed in a future release. To remove this warning, do the following: 1) Pass option use_label_encoder=False when constructing XGBClassifier object; and 2) Encode your labels (y) as integers starting with 0, i.e. 0, 1, 2, ..., [num_class - 1].\n",
      "  warnings.warn(label_encoder_deprecation_msg, UserWarning)\n"
     ]
    }
   ],
   "source": [
    "pred_model = xgbc_best_model.fit(X_train_full, y_train_full)"
   ]
  },
  {
   "cell_type": "code",
   "execution_count": 59,
   "metadata": {},
   "outputs": [],
   "source": [
    "xgbc_submission = submission(pred_model, ot_xgbc)"
   ]
  },
  {
   "cell_type": "code",
   "execution_count": 60,
   "metadata": {},
   "outputs": [],
   "source": [
    "xgbc_submission.to_csv('../submission/submission_xgbc.csv', index=False)"
   ]
  },
  {
   "cell_type": "markdown",
   "metadata": {},
   "source": [
    "kaggle score: 0.36466"
   ]
  },
  {
   "cell_type": "code",
   "execution_count": 128,
   "metadata": {},
   "outputs": [],
   "source": [
    "results = results.append(\n",
    "    {'Classifier': 'XGBoost', \n",
    "     'Hyperparams': grid_xgbc.best_params_, \n",
    "     'Optimal Threshold': ot_xgbc,\n",
    "     'Train f1 score': round(xgbc_train_f1, 3), \n",
    "     'Val f1 score': round(xgbc_val_f1, 3),\n",
    "    'Test f1 score': round(0.36466, 3)},\n",
    "    ignore_index=True)"
   ]
  },
  {
   "cell_type": "markdown",
   "metadata": {},
   "source": [
    "#### Lightgbm "
   ]
  },
  {
   "cell_type": "code",
   "execution_count": 80,
   "metadata": {},
   "outputs": [],
   "source": [
    "lgbm=lgb.LGBMClassifier(objective='binary')"
   ]
  },
  {
   "cell_type": "code",
   "execution_count": 81,
   "metadata": {},
   "outputs": [],
   "source": [
    "lgbm_params = {'max_depth':[3, 5,8],\n",
    "               'learning_rate':[0.02, 0.05, 0.1],\n",
    "               'num_iterations':[500,1000],             \n",
    "              } "
   ]
  },
  {
   "cell_type": "code",
   "execution_count": 82,
   "metadata": {},
   "outputs": [],
   "source": [
    "grid_lgbm = GridSearchCV(lgbm, lgbm_params, cv=2, verbose=3, n_jobs=-1)"
   ]
  },
  {
   "cell_type": "code",
   "execution_count": 83,
   "metadata": {
    "scrolled": false
   },
   "outputs": [
    {
     "name": "stdout",
     "output_type": "stream",
     "text": [
      "Fitting 2 folds for each of 18 candidates, totalling 36 fits\n"
     ]
    },
    {
     "name": "stderr",
     "output_type": "stream",
     "text": [
      "C:\\ProgramData\\Anaconda3\\lib\\site-packages\\lightgbm\\engine.py:148: UserWarning: Found `num_iterations` in params. Will use it instead of argument\n",
      "  _log_warning(\"Found `{}` in params. Will use it instead of argument\".format(alias))\n"
     ]
    },
    {
     "data": {
      "text/plain": [
       "GridSearchCV(cv=2, estimator=LGBMClassifier(objective='binary'), n_jobs=-1,\n",
       "             param_grid={'learning_rate': [0.02, 0.05, 0.1],\n",
       "                         'max_depth': [3, 5, 8],\n",
       "                         'num_iterations': [500, 1000]},\n",
       "             verbose=3)"
      ]
     },
     "execution_count": 83,
     "metadata": {},
     "output_type": "execute_result"
    }
   ],
   "source": [
    "grid_lgbm.fit(X_train,y_train)"
   ]
  },
  {
   "cell_type": "code",
   "execution_count": 84,
   "metadata": {},
   "outputs": [
    {
     "data": {
      "text/plain": [
       "{'learning_rate': 0.1, 'max_depth': 3, 'num_iterations': 500}"
      ]
     },
     "execution_count": 84,
     "metadata": {},
     "output_type": "execute_result"
    }
   ],
   "source": [
    "grid_lgbm.best_params_"
   ]
  },
  {
   "cell_type": "code",
   "execution_count": 85,
   "metadata": {},
   "outputs": [],
   "source": [
    "lgbm_best_model=grid_lgbm.best_estimator_"
   ]
  },
  {
   "cell_type": "markdown",
   "metadata": {},
   "source": [
    "##### Get the optimal threshold and F1 score"
   ]
  },
  {
   "cell_type": "code",
   "execution_count": 87,
   "metadata": {},
   "outputs": [],
   "source": [
    "preds_val_lgbm=lgbm_best_model.predict_proba(X_val)"
   ]
  },
  {
   "cell_type": "code",
   "execution_count": 88,
   "metadata": {},
   "outputs": [],
   "source": [
    "ot_lgbm, f1_lgbm=optimal_threshold(preds_val_lgbm)"
   ]
  },
  {
   "cell_type": "code",
   "execution_count": 89,
   "metadata": {},
   "outputs": [
    {
     "data": {
      "text/plain": [
       "(0.22, 0.4321678381917166)"
      ]
     },
     "execution_count": 89,
     "metadata": {},
     "output_type": "execute_result"
    }
   ],
   "source": [
    "ot_lgbm, f1_lgbm"
   ]
  },
  {
   "cell_type": "code",
   "execution_count": 90,
   "metadata": {},
   "outputs": [
    {
     "name": "stdout",
     "output_type": "stream",
     "text": [
      "f1-score on train data: 0.4309935974294663\n",
      "f1-score on validate data: 0.4321678381917166\n"
     ]
    }
   ],
   "source": [
    "lgbm_train_f1, lgbm_val_f1 = train_val_f1_score(ot_lgbm, lgbm_best_model)"
   ]
  },
  {
   "cell_type": "markdown",
   "metadata": {},
   "source": [
    "##### prediction and kaggle submission"
   ]
  },
  {
   "cell_type": "code",
   "execution_count": 91,
   "metadata": {
    "scrolled": true
   },
   "outputs": [
    {
     "name": "stderr",
     "output_type": "stream",
     "text": [
      "C:\\ProgramData\\Anaconda3\\lib\\site-packages\\lightgbm\\engine.py:148: UserWarning: Found `num_iterations` in params. Will use it instead of argument\n",
      "  _log_warning(\"Found `{}` in params. Will use it instead of argument\".format(alias))\n"
     ]
    }
   ],
   "source": [
    "pred_lgbm_model = lgbm_best_model.fit(X_train_full, y_train_full)"
   ]
  },
  {
   "cell_type": "code",
   "execution_count": 92,
   "metadata": {},
   "outputs": [
    {
     "name": "stdout",
     "output_type": "stream",
     "text": [
      "f1-score on full train data: 0.4313568423517632\n"
     ]
    }
   ],
   "source": [
    "y_pred_fulltrain=[1 if pred[1]>=ot_lgbm else 0 for pred in pred_lgbm_model.predict_proba(X_train_full)]\n",
    "print('f1-score on full train data: {}'.format(f1_score(y_train_full,y_pred_fulltrain)))"
   ]
  },
  {
   "cell_type": "code",
   "execution_count": 93,
   "metadata": {},
   "outputs": [],
   "source": [
    "lgbm_submission = submission(pred_lgbm_model, ot_lgbm)"
   ]
  },
  {
   "cell_type": "code",
   "execution_count": 94,
   "metadata": {},
   "outputs": [],
   "source": [
    "lgbm_submission.to_csv('../submission/submission_lgbm.csv', index=False)"
   ]
  },
  {
   "cell_type": "markdown",
   "metadata": {},
   "source": [
    "kaggle score: 0.36479"
   ]
  },
  {
   "cell_type": "code",
   "execution_count": 130,
   "metadata": {},
   "outputs": [],
   "source": [
    "results = results.append(\n",
    "    {'Classifier': 'Lightgbm', \n",
    "     'Hyperparams': grid_lgbm.best_params_, \n",
    "     'Optimal Threshold': ot_lgbm,\n",
    "     'Train f1 score': round(lgbm_train_f1, 3), \n",
    "     'Val f1 score': round(lgbm_val_f1, 3),\n",
    "    'Test f1 score': round(0.36479, 3)},\n",
    "    ignore_index=True)"
   ]
  },
  {
   "cell_type": "markdown",
   "metadata": {},
   "source": [
    "#### Random Forest"
   ]
  },
  {
   "cell_type": "code",
   "execution_count": 97,
   "metadata": {},
   "outputs": [],
   "source": [
    "rfc=RandomForestClassifier()"
   ]
  },
  {
   "cell_type": "code",
   "execution_count": 98,
   "metadata": {},
   "outputs": [],
   "source": [
    "rfc_params = {'max_depth':[15,12,10,8,5],\n",
    "               'n_estimators':[100,250,500,750,1000],               \n",
    "              } "
   ]
  },
  {
   "cell_type": "code",
   "execution_count": 99,
   "metadata": {},
   "outputs": [],
   "source": [
    "grid_rfc = GridSearchCV(rfc, rfc_params, cv=2, verbose=3, n_jobs=-1)"
   ]
  },
  {
   "cell_type": "code",
   "execution_count": 100,
   "metadata": {},
   "outputs": [
    {
     "name": "stdout",
     "output_type": "stream",
     "text": [
      "Fitting 2 folds for each of 25 candidates, totalling 50 fits\n"
     ]
    },
    {
     "data": {
      "text/plain": [
       "GridSearchCV(cv=2, estimator=RandomForestClassifier(), n_jobs=-1,\n",
       "             param_grid={'max_depth': [15, 12, 10, 8, 5],\n",
       "                         'n_estimators': [100, 250, 500, 750, 1000]},\n",
       "             verbose=3)"
      ]
     },
     "execution_count": 100,
     "metadata": {},
     "output_type": "execute_result"
    }
   ],
   "source": [
    "grid_rfc.fit(X_train,y_train)"
   ]
  },
  {
   "cell_type": "code",
   "execution_count": 101,
   "metadata": {},
   "outputs": [],
   "source": [
    "rfc_best_model=grid_rfc.best_estimator_"
   ]
  },
  {
   "cell_type": "code",
   "execution_count": 102,
   "metadata": {
    "scrolled": true
   },
   "outputs": [
    {
     "data": {
      "text/plain": [
       "{'max_depth': 12, 'n_estimators': 1000}"
      ]
     },
     "execution_count": 102,
     "metadata": {},
     "output_type": "execute_result"
    }
   ],
   "source": [
    "grid_rfc.best_params_"
   ]
  },
  {
   "cell_type": "markdown",
   "metadata": {},
   "source": [
    "##### Get the optimal threshold and F1 score"
   ]
  },
  {
   "cell_type": "code",
   "execution_count": 104,
   "metadata": {},
   "outputs": [],
   "source": [
    "preds_val_rfc=rfc_best_model.predict_proba(X_val)"
   ]
  },
  {
   "cell_type": "code",
   "execution_count": 105,
   "metadata": {},
   "outputs": [],
   "source": [
    "ot_rfc, f1_rfc=optimal_threshold(preds_val_rfc)"
   ]
  },
  {
   "cell_type": "code",
   "execution_count": 106,
   "metadata": {},
   "outputs": [
    {
     "data": {
      "text/plain": [
       "(0.21, 0.4313631102748657)"
      ]
     },
     "execution_count": 106,
     "metadata": {},
     "output_type": "execute_result"
    }
   ],
   "source": [
    "ot_rfc, f1_rfc"
   ]
  },
  {
   "cell_type": "code",
   "execution_count": 107,
   "metadata": {},
   "outputs": [
    {
     "name": "stdout",
     "output_type": "stream",
     "text": [
      "f1-score on train data: 0.4365175780744583\n",
      "f1-score on validate data: 0.4313631102748657\n"
     ]
    }
   ],
   "source": [
    "rfc_train_f1, rfc_val_f1 = train_val_f1_score(ot_rfc, rfc_best_model)"
   ]
  },
  {
   "cell_type": "markdown",
   "metadata": {},
   "source": [
    "##### prediction and kaggle submission "
   ]
  },
  {
   "cell_type": "code",
   "execution_count": 108,
   "metadata": {},
   "outputs": [],
   "source": [
    "pred_rfc_model = rfc_best_model.fit(X_train_full, y_train_full)"
   ]
  },
  {
   "cell_type": "code",
   "execution_count": 109,
   "metadata": {},
   "outputs": [
    {
     "name": "stdout",
     "output_type": "stream",
     "text": [
      "f1-score on full train data: 0.4353991178651163\n"
     ]
    }
   ],
   "source": [
    "y_pred_fulltrain=[1 if pred[1]>=ot_rfc else 0 for pred in pred_rfc_model.predict_proba(X_train_full)]\n",
    "print('f1-score on full train data: {}'.format(f1_score(y_train_full,y_pred_fulltrain)))"
   ]
  },
  {
   "cell_type": "code",
   "execution_count": 110,
   "metadata": {},
   "outputs": [],
   "source": [
    "rfc_submission = submission(pred_rfc_model, ot_rfc)"
   ]
  },
  {
   "cell_type": "code",
   "execution_count": 111,
   "metadata": {},
   "outputs": [],
   "source": [
    "rfc_submission.to_csv('../submission/submission_rfc.csv', index=False)"
   ]
  },
  {
   "cell_type": "markdown",
   "metadata": {},
   "source": [
    "kaggle score: 0.36755"
   ]
  },
  {
   "cell_type": "code",
   "execution_count": 132,
   "metadata": {},
   "outputs": [],
   "source": [
    "results = results.append(\n",
    "    {'Classifier': 'Random Forest', \n",
    "     'Hyperparams': grid_rfc.best_params_,\n",
    "     'Optimal Threshold': ot_rfc,\n",
    "     'Train f1 score': round(rfc_train_f1, 3), \n",
    "     'Val f1 score': round(rfc_val_f1, 3),\n",
    "    'Test f1 score': round(0.36755, 3)},\n",
    "    ignore_index=True)"
   ]
  },
  {
   "cell_type": "markdown",
   "metadata": {},
   "source": [
    "### Model Comparison"
   ]
  },
  {
   "cell_type": "code",
   "execution_count": null,
   "metadata": {},
   "outputs": [],
   "source": [
    "#results"
   ]
  },
  {
   "cell_type": "markdown",
   "metadata": {},
   "source": [
    "| Classifier          | Hyperparams                                                                                                                                   | Optimal Threshold |   Train f1 score |   Val f1 score |   Test f1 score |\n",
    "|:--------------------|:----------------------------------------------------------------------------------------------------------------------------------------------|:----------------|--------------:|---------------:|---------------:|\n",
    "| Logistic Regression | {'logreg__C': 0.1}                                                           |            0.20 |          0.427 |           0.429  |0.363|\n",
    "| XGBoost            | {'learning_rate': 0.02, 'max_depth': 6, 'n_estimators': 1000}                     |            0.21 |          0.434 |           0.433 |0.365|\n",
    "| Lightgbm                 | {'learning_rate': 0.1, 'max_depth': 3, 'num_iterations': 500}                    |            0.22  |          0.431 |           0.432 |0.365|\n",
    "| Random Forest       | {'max_depth': 12, 'n_estimators': 1000} |            0.21 |          0.437 |           0.431 |0.368|"
   ]
  },
  {
   "cell_type": "markdown",
   "metadata": {},
   "source": [
    "Comparing the performance on the test data versus the performance on the training data, we do oberve some overfitting. \n",
    "\n",
    "We can observe that amongst these models, random forest performances best. However, due to large dataset, it requests quite long time to train random forest model. The second best performance models are boost models, i.e. XGBoost and Lightgbm. They requires shorter time to train, especially Lightgbm model needs even shorter time than XGBoost. Not surprisely, the third best performance model is Logistic Regression due to its naive nature.\n",
    "\n",
    "The perfromance gap betweem Random Forest & Logistic Regression is not that much. If we would like to obtain rough result quickly, we can apply logistic regression model. "
   ]
  },
  {
   "cell_type": "markdown",
   "metadata": {},
   "source": [
    "### Analyse Best Model Coefficients"
   ]
  },
  {
   "cell_type": "code",
   "execution_count": 135,
   "metadata": {},
   "outputs": [
    {
     "data": {
      "text/plain": [
       "Text(0.5, 1.0, 'Feature Importance')"
      ]
     },
     "execution_count": 135,
     "metadata": {},
     "output_type": "execute_result"
    },
    {
     "data": {
      "image/png": "[encoded data removed]",
      "text/plain": [
       "<Figure size 1080x576 with 1 Axes>"
      ]
     },
     "metadata": {
      "needs_background": "light"
     },
     "output_type": "display_data"
    }
   ],
   "source": [
    "plt.figure(figsize=(15,8))\n",
    "sorted_idx = rfc_best_model.feature_importances_.argsort()\n",
    "plt.barh(X_train.columns[sorted_idx], rfc_best_model.feature_importances_[sorted_idx])\n",
    "plt.xlabel('F score', size=12)\n",
    "plt.title('Feature Importance', size=14)"
   ]
  },
  {
   "cell_type": "markdown",
   "metadata": {},
   "source": [
    "Last5 orders and user_product related features are the strongest features. If customer bought products frequently during lastest orders, he/she would have a preference for these products during that period of time and may tend to buy again in next purchase. User_prodcuts features indicates customers' long term perference of some products. For example, customer may prefer certain brands or may prefer certain type of products, i.e. organic food. Thus, customer will also tend to purchase these products repeatedly."
   ]
  },
  {
   "cell_type": "markdown",
   "metadata": {},
   "source": [
    "## Conclusion and Recommendations"
   ]
  },
  {
   "cell_type": "markdown",
   "metadata": {},
   "source": [
    "In conclusion, we believe that our model can predict product reorder in next purchase effectively, with f1 score as 0.368. The prediction result can help increase sales and imrpove customer retention rate for Instacart. We suggest Instacart to utilize of data science to understand customers' short term and long term preference. For example, through customer latest orders, we can understand customers' recent preference. We also can understand customers' long term preference through more historical order data. \n",
    "\n",
    "As mentioned in previous section, customer retention rate is important to Instacart. \n",
    "With prediction results from our model, we can provide the following recommendations to improve customer retention rate. \n",
    "1. Offer personalized discounts and credits on products that customers may purchase repeatedly in their next orders.\n",
    "2. Send engaging emails to customers based on the prediction result for repeating purchase."
   ]
  },
  {
   "cell_type": "markdown",
   "metadata": {},
   "source": [
    "## References"
   ]
  },
  {
   "cell_type": "markdown",
   "metadata": {},
   "source": [
    "1. https://en.wikipedia.org/wiki/Instacart\n",
    "2. https://www.lightspeedhq.com/blog/customer-retention-rate/\n",
    "3. https://stats.stackexchange.com/questions/329102/comparing-f1-score-across-imbalanced-data-sets\n",
    "4. https://machinelearningmastery.com/xgboost-for-imbalanced-classification/\n",
    "5. https://machinelearningmastery.com/threshold-moving-for-imbalanced-classification/\n",
    "6. https://stats.stackexchange.com/questions/390200/what-is-the-baseline-of-the-f1-score-for-a-binary-classifier"
   ]
  }
 ],
 "metadata": {
  "kernelspec": {
   "display_name": "Python 3",
   "language": "python",
   "name": "python3"
  },
  "language_info": {
   "codemirror_mode": {
    "name": "ipython",
    "version": 3
   },
   "file_extension": ".py",
   "mimetype": "text/x-python",
   "name": "python",
   "nbconvert_exporter": "python",
   "pygments_lexer": "ipython3",
   "version": "3.8.10"
  },
  "toc": {
   "base_numbering": "3",
   "nav_menu": {},
   "number_sections": true,
   "sideBar": true,
   "skip_h1_title": false,
   "title_cell": "Table of Contents",
   "title_sidebar": "Contents",
   "toc_cell": false,
   "toc_position": {
    "height": "108.667px",
    "left": "56px",
    "top": "164.667px",
    "width": "255.99px"
   },
   "toc_section_display": true,
   "toc_window_display": true
  }
 },
 "nbformat": 4,
 "nbformat_minor": 2
}
